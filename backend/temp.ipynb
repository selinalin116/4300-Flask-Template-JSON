{
 "cells": [
  {
   "cell_type": "code",
   "execution_count": 1,
   "metadata": {},
   "outputs": [],
   "source": [
    "import requests\n",
    "import json\n",
    "import numpy as np\n",
    "from scipy.sparse.linalg import svds\n",
    "from sklearn.feature_extraction.text import TfidfVectorizer\n",
    "from sklearn.preprocessing import normalize\n",
    "import pandas as pd\n",
    "import os\n",
    "import zipfile"
   ]
  },
  {
   "cell_type": "code",
   "execution_count": 2,
   "metadata": {},
   "outputs": [],
   "source": [
    "zip_filename = 'data/recipes_cleaned.zip'\n",
    "file_inside_zip = 'recipes_cleaned.json'  # Replace with the actual file name inside the ZIP archive\n",
    "\n",
    "# Open the ZIP file and read the file inside it\n",
    "with zipfile.ZipFile(zip_filename, 'r') as zipf:\n",
    "    with zipf.open(file_inside_zip) as file:\n",
    "        # Read and decode the file contents (assuming it's UTF-8 encoded text)\n",
    "        data = file.read().decode('utf-8')"
   ]
  },
  {
   "cell_type": "code",
   "execution_count": 8,
   "metadata": {},
   "outputs": [],
   "source": [
    "data = json.loads(data)"
   ]
  },
  {
   "cell_type": "code",
   "execution_count": 10,
   "metadata": {},
   "outputs": [
    {
     "data": {
      "text/plain": [
       "{'name': 'Potato-Crab Chowder',\n",
       " 'description': 'Soup for the soul!',\n",
       " 'ingredients': \"['butter', 'onion', 'garlic', 'potatoes', 'flour', 'milk', 'black pepper', 'nutmeg', 'creamed corn', 'low sodium chicken broth', 'lump crabmeat', 'cayenne pepper', 'parsley']\",\n",
       " 'ingredients_raw_str': '[\"2   tablespoons    butter\",\"1   medium    onion\",\"2   tablespoons   minced garlic\",\"3   cups    potatoes, skin on, 1 inch cubed \",\"3   tablespoons    flour\",\"2   cups    milk\",\"1/2  teaspoon    black pepper\",\"1/4  teaspoon    nutmeg\",\"1 (14   ounce) can   creamed corn\",\"1 (14   ounce) can   low sodium chicken broth\",\"1 (8   ounce) can   lump crabmeat\",\"1   dash    cayenne pepper\",\"1   pinch    parsley\"]',\n",
       " 'servings': 6,\n",
       " 'steps': \"['Saute onion&amp; garlic in melted butter in large sauce pan for 4 minutes.', 'Add potato and saute 1 minute.', 'Sprinkle in flour, cook for 1 minute stirring constantly.', 'Add milk, pepper, nutmeg, corn and broth.', 'Bring to a simmer over med heat stirring frequently.', 'Cover and reduce heat to low for a 20 minute simmer.', 'Stir in crab meat and parsley, cook 5 minutes.', 'Serve or pour into crock pot on low or warm.']\",\n",
       " 'search_terms': \"{'healthy', 'low-calorie', 'low-fat', 'low-sodium'}\"}"
      ]
     },
     "execution_count": 10,
     "metadata": {},
     "output_type": "execute_result"
    }
   ],
   "source": [
    "data[0]"
   ]
  },
  {
   "cell_type": "code",
   "execution_count": null,
   "metadata": {},
   "outputs": [],
   "source": [
    "recipe_descriptions = [description for description in recipes['description']]\n",
    "print(recipe_descriptions[:10])"
   ]
  },
  {
   "cell_type": "code",
   "execution_count": null,
   "metadata": {},
   "outputs": [],
   "source": [
    "vectorizer = TfidfVectorizer(stop_words='english', max_df=0.7, min_df=5)\n",
    "recipe_tfidf = vectorizer.fit_transform(recipe_descriptions)"
   ]
  },
  {
   "cell_type": "code",
   "execution_count": null,
   "metadata": {},
   "outputs": [],
   "source": [
    "k = 40  # Same as class demo\n",
    "U, s, vt = svds(recipe_tfidf, k=k)\n",
    "recipe_vectors = normalize(U, axis=1)"
   ]
  }
 ],
 "metadata": {
  "kernelspec": {
   "display_name": "base",
   "language": "python",
   "name": "python3"
  },
  "language_info": {
   "codemirror_mode": {
    "name": "ipython",
    "version": 3
   },
   "file_extension": ".py",
   "mimetype": "text/x-python",
   "name": "python",
   "nbconvert_exporter": "python",
   "pygments_lexer": "ipython3",
   "version": "3.11.4"
  }
 },
 "nbformat": 4,
 "nbformat_minor": 2
}
