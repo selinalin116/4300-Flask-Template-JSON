{
 "cells": [
  {
   "cell_type": "code",
   "execution_count": 52,
   "metadata": {},
   "outputs": [],
   "source": [
    "import os\n",
    "import re\n",
    "import string\n",
    "from sklearn.feature_extraction.text import TfidfVectorizer\n",
    "from scipy.sparse.linalg import svds\n",
    "from sklearn.preprocessing import normalize\n"
   ]
  },
  {
   "cell_type": "code",
   "execution_count": 53,
   "metadata": {},
   "outputs": [],
   "source": [
    "index_to_title = {}\n",
    "i = 0\n",
    "for filename in os.listdir(\"scripts\"):\n",
    "    index_to_title[i] = filename\n",
    "    i += 1\n",
    "script_array = [None] * len(index_to_title.keys())"
   ]
  },
  {
   "cell_type": "code",
   "execution_count": 54,
   "metadata": {},
   "outputs": [],
   "source": [
    "i = 0\n",
    "for script in index_to_title.values():\n",
    "    try:\n",
    "        # Read the script\n",
    "        with open(\"scripts/\" + script, 'r', encoding='utf-8') as file:\n",
    "            script_text = file.read()\n",
    "        \n",
    "        # Preprocess the script\n",
    "        script_text = script_text.lower()\n",
    "        script_text = re.sub(f'[{string.punctuation}]', ' ', script_text)\n",
    "        script_text = re.sub(r'\\s+', ' ', script_text).strip()\n",
    "        \n",
    "        index_to_title[i] = script\n",
    "        script_array[i] = script_text\n",
    "        i += 1\n",
    "\n",
    "    except Exception as e:\n",
    "        print(f\"Error processing script: {e}\")"
   ]
  },
  {
   "cell_type": "code",
   "execution_count": 55,
   "metadata": {},
   "outputs": [],
   "source": [
    "vectorizer = TfidfVectorizer(stop_words = 'english', max_df = .7, min_df = 75)\n",
    "\n",
    "td_matrix = vectorizer.fit_transform(script_array)"
   ]
  },
  {
   "cell_type": "code",
   "execution_count": 56,
   "metadata": {},
   "outputs": [
    {
     "name": "stdout",
     "output_type": "stream",
     "text": [
      "<class 'scipy.sparse._csr.csr_matrix'>\n",
      "(1231, 9156)\n"
     ]
    }
   ],
   "source": [
    "print(type(td_matrix))\n",
    "print(td_matrix.shape)"
   ]
  },
  {
   "cell_type": "code",
   "execution_count": 57,
   "metadata": {},
   "outputs": [],
   "source": [
    "u, s, v_trans = svds(td_matrix, k=100)"
   ]
  },
  {
   "cell_type": "code",
   "execution_count": 58,
   "metadata": {},
   "outputs": [
    {
     "data": {
      "image/png": "[encoded data removed]",
      "text/plain": [
       "<Figure size 640x480 with 1 Axes>"
      ]
     },
     "metadata": {},
     "output_type": "display_data"
    }
   ],
   "source": [
    "import matplotlib\n",
    "import numpy as np\n",
    "import matplotlib.pyplot as plt\n",
    "%matplotlib inline\n",
    "plt.plot(s[::-1])\n",
    "plt.xlabel(\"Singular value number\")\n",
    "plt.ylabel(\"Singular value\")\n",
    "plt.show()"
   ]
  },
  {
   "cell_type": "code",
   "execution_count": 59,
   "metadata": {},
   "outputs": [],
   "source": [
    "docs_compressed, s, words_compressed = svds(td_matrix, k=20)\n",
    "words_compressed = words_compressed.transpose()"
   ]
  },
  {
   "cell_type": "code",
   "execution_count": 60,
   "metadata": {},
   "outputs": [
    {
     "name": "stdout",
     "output_type": "stream",
     "text": [
      "(9156, 20)\n",
      "(1231, 20)\n"
     ]
    }
   ],
   "source": [
    "print(words_compressed.shape)\n",
    "print(docs_compressed.shape)"
   ]
  },
  {
   "cell_type": "code",
   "execution_count": 61,
   "metadata": {},
   "outputs": [],
   "source": [
    "word_to_index = vectorizer.vocabulary_\n",
    "index_to_word = {i:t for t,i in word_to_index.items()}\n",
    "\n",
    "#row normalize\n",
    "words_compressed_normed = normalize(words_compressed, axis = 1)\n",
    "\n",
    "# cosine similarity\n",
    "def closest_words(word_in, words_representation_in, k = 10):\n",
    "    if word_in not in word_to_index: return \"Not in vocab.\"\n",
    "    sims = words_representation_in.dot(words_representation_in[word_to_index[word_in],:])\n",
    "    asort = np.argsort(-sims)[:k+1]\n",
    "    return [(index_to_word[i],sims[i]) for i in asort[1:]]\n",
    "\n",
    "td_matrix_np = td_matrix.transpose().toarray()\n",
    "td_matrix_np = normalize(td_matrix_np)"
   ]
  },
  {
   "cell_type": "code",
   "execution_count": 62,
   "metadata": {},
   "outputs": [
    {
     "name": "stdout",
     "output_type": "stream",
     "text": [
      "Using SVD:\n",
      "split, 0.976\n",
      "smash, 0.957\n",
      "stick, 0.948\n",
      "gut, 0.947\n",
      "whipped, 0.945\n",
      "sticks, 0.944\n",
      "kick, 0.943\n",
      "wrestles, 0.941\n",
      "copy, 0.940\n",
      "team, 0.938\n",
      "\n",
      "Without using SVD: using term-doc matrix directly:\n",
      "punches, 0.523\n",
      "lands, 0.454\n",
      "jaw, 0.451\n",
      "fists, 0.442\n",
      "belt, 0.436\n",
      "boxing, 0.412\n",
      "gym, 0.391\n",
      "fights, 0.388\n",
      "kick, 0.388\n",
      "hitting, 0.386\n",
      "\n"
     ]
    }
   ],
   "source": [
    "word = 'punch'\n",
    "print(\"Using SVD:\")\n",
    "for w, sim in closest_words(word, words_compressed_normed):\n",
    "  try:\n",
    "    print(\"{}, {:.3f}\".format(w, sim))\n",
    "  except:\n",
    "    print(\"word not found\")\n",
    "print()\n",
    "print(\"Without using SVD: using term-doc matrix directly:\")\n",
    "for w, sim in closest_words(word, td_matrix_np):\n",
    "  try:\n",
    "    print(\"{}, {:.3f}\".format(w, sim))\n",
    "  except:\n",
    "    print(\"word not found\")\n",
    "print()"
   ]
  },
  {
   "cell_type": "markdown",
   "metadata": {},
   "source": [
    "## Finding similar projects (movies)"
   ]
  },
  {
   "cell_type": "code",
   "execution_count": 112,
   "metadata": {},
   "outputs": [],
   "source": [
    "docs_compressed_normed = normalize(docs_compressed)\n",
    "\n",
    "# this is basically the same cosine similarity code that we used before, just with some changes to\n",
    "# the returned output format to let us print out the documents in a sensible way\n",
    "def closest_projects(project_index_in, project_repr_in, k = 5):\n",
    "    sims = project_repr_in.dot(project_repr_in[project_index_in,:])\n",
    "    asort = np.argsort(-sims)[:k+1]\n",
    "    \n",
    "    return [(index_to_title[i],sims[i]) for i in asort[1:]]\n"
   ]
  },
  {
   "cell_type": "code",
   "execution_count": null,
   "metadata": {},
   "outputs": [],
   "source": [
    "for i in range(10):\n",
    "    print(\"INPUT PROJECT: \"+ index_to_title[i])\n",
    "    print(\"CLOSEST PROJECTS:\")\n",
    "    print(\"Using SVD:\")\n",
    "    for title, score in closest_projects(i, docs_compressed_normed):\n",
    "        print(\"{}:{:.3f}\".format(title, score))\n",
    "    print()"
   ]
  },
  {
   "cell_type": "markdown",
   "metadata": {},
   "source": [
    "## Finding movies based on a word"
   ]
  },
  {
   "cell_type": "code",
   "execution_count": 123,
   "metadata": {},
   "outputs": [],
   "source": [
    "# Once again, basically the same cosine similarity code, but mixing two different matrices\n",
    "def closest_projects_to_word(word_in, k = 10):\n",
    "    if word_in not in word_to_index: return \"Not in vocab.\"\n",
    "    sims = docs_compressed_normed.dot(words_compressed_normed[word_to_index[word_in],:])\n",
    "    asort = np.argsort(-sims)[:k+1]\n",
    "    return [(i, index_to_title[i],sims[i]) for i in asort[1:]]"
   ]
  },
  {
   "cell_type": "code",
   "execution_count": 128,
   "metadata": {},
   "outputs": [
    {
     "name": "stdout",
     "output_type": "stream",
     "text": [
      "(240, Butterfly-Effect,-The.txt, 0.8532\n",
      "(211, Bound.txt, 0.8114\n",
      "(632, Joker.txt, 0.8045\n",
      "(137, Bad-Santa.txt, 0.7835\n",
      "(1143, True-Romance.txt, 0.7832\n",
      "(275, Clerks.txt, 0.7756\n",
      "(924, Replacements,-The.txt, 0.7756\n",
      "(902, Pulp-Fiction.txt, 0.7714\n",
      "(297, Cradle-2-the-Grave.txt, 0.7639\n",
      "(913, Rambling-Rose.txt, 0.7638\n"
     ]
    }
   ],
   "source": [
    "for i, proj, sim in closest_projects_to_word(\"burger\"):\n",
    "    print(\"({}, {}, {:.4f}\".format(i, proj, sim))"
   ]
  }
 ],
 "metadata": {
  "kernelspec": {
   "display_name": "base",
   "language": "python",
   "name": "python3"
  },
  "language_info": {
   "codemirror_mode": {
    "name": "ipython",
    "version": 3
   },
   "file_extension": ".py",
   "mimetype": "text/x-python",
   "name": "python",
   "nbconvert_exporter": "python",
   "pygments_lexer": "ipython3",
   "version": "3.11.4"
  }
 },
 "nbformat": 4,
 "nbformat_minor": 2
}
